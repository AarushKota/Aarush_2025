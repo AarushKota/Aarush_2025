{
 "cells": [
  {
   "cell_type": "markdown",
   "metadata": {},
   "source": [
    "# Popcorn Hack #1"
   ]
  },
  {
   "cell_type": "code",
   "execution_count": 1,
   "metadata": {},
   "outputs": [
    {
     "name": "stdout",
     "output_type": "stream",
     "text": [
      "\n",
      "Your popcorn list:\n",
      "Cheese\n",
      "Honey\n"
     ]
    }
   ],
   "source": [
    "# Initialize an empty list\n",
    "popcorn_list = []\n",
    "\n",
    "# Ask the user for items until they choose to stop\n",
    "while True:\n",
    "    user_input = input(\"Enter an item for the popcorn list (or type 'done' to finish): \")\n",
    "    \n",
    "    # Check if the user wants to stop adding items\n",
    "    if user_input.lower() == 'done':\n",
    "        break\n",
    "    \n",
    "    # Append the item to the list\n",
    "    popcorn_list.append(user_input)\n",
    "\n",
    "# Print out each item in the list\n",
    "print(\"\\nYour popcorn list:\")\n",
    "for item in popcorn_list:\n",
    "    print(item)\n"
   ]
  },
  {
   "cell_type": "markdown",
   "metadata": {},
   "source": [
    "# Popcorn Hack #2"
   ]
  },
  {
   "cell_type": "code",
   "execution_count": 2,
   "metadata": {},
   "outputs": [
    {
     "name": "stdout",
     "output_type": "stream",
     "text": [
      "The second element in the list is: Shoes\n",
      "The second element has been deleted.\n",
      "Updated list: ['Ball', 'Socks', 'Shirt', 'Shorts']\n"
     ]
    }
   ],
   "source": [
    "# Initialize an empty list\n",
    "aList = []\n",
    "\n",
    "# Input items into the list until the user types 'done'\n",
    "while True:\n",
    "    user_input = input(\"Enter an item for the list (or type 'done' to finish): \")\n",
    "    \n",
    "    # Check if the user wants to stop adding items\n",
    "    if user_input.lower() == 'done':\n",
    "        break\n",
    "    \n",
    "    # Append the item to the list\n",
    "    aList.append(user_input)\n",
    "\n",
    "# Display the second element if it exists\n",
    "if len(aList) > 1:\n",
    "    print(f\"The second element in the list is: {aList[1]}\")\n",
    "else:\n",
    "    print(\"The list does not have a second element.\")\n",
    "\n",
    "# Delete the second element if it exists\n",
    "if len(aList) > 1:\n",
    "    del aList[1]\n",
    "    print(\"The second element has been deleted.\")\n",
    "else:\n",
    "    print(\"No second element to delete.\")\n",
    "\n",
    "# Display the updated list\n",
    "print(\"Updated list:\", aList)\n"
   ]
  },
  {
   "cell_type": "markdown",
   "metadata": {},
   "source": [
    "# Popcorn Hack #3"
   ]
  },
  {
   "cell_type": "code",
   "execution_count": 3,
   "metadata": {},
   "outputs": [
    {
     "name": "stdout",
     "output_type": "stream",
     "text": [
      "Total number of items in the list: 7\n",
      "Favorite Foods: ['Pizza', 'Burrito', 'Chicken Sandwich', 'Salad', 'Pasta', 'Goldfish', 'Tacos']\n"
     ]
    }
   ],
   "source": [
    "# Create a list of favorite foods\n",
    "favorite_foods = [\"Pizza\", \"Burrito\", \"Chicken Sandwich\", \"Salad\", \"Pasta\"]\n",
    "\n",
    "# Add two more items to the list\n",
    "favorite_foods.append(\"Goldfish\")  # Using append to add an item\n",
    "favorite_foods.append(\"Tacos\")      # Using append to add another item\n",
    "\n",
    "# Find and print the total number of items in the list\n",
    "total_items = len(favorite_foods)\n",
    "print(\"Total number of items in the list:\", total_items)\n",
    "\n",
    "# Optionally, print the list of favorite foods\n",
    "print(\"Favorite Foods:\", favorite_foods)\n"
   ]
  },
  {
   "cell_type": "markdown",
   "metadata": {},
   "source": [
    "# Popcorn Hack #4"
   ]
  },
  {
   "cell_type": "code",
   "execution_count": 4,
   "metadata": {},
   "outputs": [
    {
     "name": "stdout",
     "output_type": "stream",
     "text": [
      "Banana is present in the list.\n"
     ]
    }
   ],
   "source": [
    "# Create a list of fruits\n",
    "fruits = [\"apple\", \"banana\", \"cherry\", \"date\", \"fig\", \"grape\", \"kiwi\"]\n",
    "\n",
    "# Check for the presence of \"banana\"\n",
    "if \"banana\" in fruits:\n",
    "    print(\"Banana is present in the list.\")\n",
    "else:\n",
    "    print(\"Banana is not present in the list.\")\n"
   ]
  },
  {
   "cell_type": "markdown",
   "metadata": {},
   "source": [
    "# Homework Hack #1"
   ]
  },
  {
   "cell_type": "code",
   "execution_count": null,
   "metadata": {},
   "outputs": [],
   "source": [
    "# Create a list of numbers\n",
    "numbers = [10, 20, 30, 40, 50]\n",
    "\n",
    "# Print the second element in the list\n",
    "print(\"The second element in the list is:\", numbers[1])\n"
   ]
  },
  {
   "cell_type": "markdown",
   "metadata": {},
   "source": [
    "# Homework Hack #2"
   ]
  },
  {
   "cell_type": "code",
   "execution_count": null,
   "metadata": {
    "vscode": {
     "languageId": "javascript"
    }
   },
   "outputs": [],
   "source": [
    "// Create an array of numbers\n",
    "let numbers = [10, 20, 30, 40, 50];\n",
    "\n",
    "// Log the second element in the array to the console\n",
    "console.log(\"The second element in the array is:\", numbers[1]);\n"
   ]
  },
  {
   "cell_type": "markdown",
   "metadata": {},
   "source": [
    "# Homework Hack #3"
   ]
  },
  {
   "cell_type": "code",
   "execution_count": null,
   "metadata": {},
   "outputs": [],
   "source": [
    "# Initialize an empty to-do list\n",
    "todo_list = []\n",
    "\n",
    "def display_menu():\n",
    "    print(\"\\nTo-Do List Menu:\")\n",
    "    print(\"1. Add item\")\n",
    "    print(\"2. Remove item\")\n",
    "    print(\"3. View list\")\n",
    "    print(\"4. Exit\")\n",
    "\n",
    "def add_item():\n",
    "    item = input(\"Enter the item to add: \")\n",
    "    todo_list.append(item)\n",
    "    print(f'\"{item}\" has been added to your to-do list.')\n",
    "\n",
    "def remove_item():\n",
    "    item = input(\"Enter the item to remove: \")\n",
    "    if item in todo_list:\n",
    "        todo_list.remove(item)\n",
    "        print(f'\"{item}\" has been removed from your to-do list.')\n",
    "    else:\n",
    "        print(f'\"{item}\" is not in your to-do list.')\n",
    "\n",
    "def view_list():\n",
    "    if todo_list:\n",
    "        print(\"\\nYour To-Do List:\")\n",
    "        for idx, item in enumerate(todo_list, start=1):\n",
    "            print(f\"{idx}. {item}\")\n",
    "    else:\n",
    "        print(\"Your to-do list is empty.\")\n",
    "\n",
    "# Main loop\n",
    "while True:\n",
    "    display_menu()\n",
    "    choice = input(\"Choose an option (1-4): \")\n",
    "\n",
    "    if choice == '1':\n",
    "        add_item()\n",
    "    elif choice == '2':\n",
    "        remove_item()\n",
    "    elif choice == '3':\n",
    "        view_list()\n",
    "    elif choice == '4':\n",
    "        print(\"Exiting the program. Goodbye!\")\n",
    "        break\n",
    "    else:\n",
    "        print(\"Invalid choice. Please try again.\")\n"
   ]
  },
  {
   "cell_type": "markdown",
   "metadata": {},
   "source": [
    "# Homework Hack #4"
   ]
  },
  {
   "cell_type": "code",
   "execution_count": null,
   "metadata": {
    "vscode": {
     "languageId": "javascript"
    }
   },
   "outputs": [],
   "source": [
    "// Initialize an empty array to store workouts\n",
    "let workoutLog = [];\n",
    "\n",
    "// Function to display the menu options\n",
    "function displayMenu() {\n",
    "    console.log(\"\\nWorkout Tracker Menu:\");\n",
    "    console.log(\"1. Log a workout\");\n",
    "    console.log(\"2. View workout log\");\n",
    "    console.log(\"3. Exit\");\n",
    "}\n",
    "\n",
    "// Function to log a workout\n",
    "function logWorkout() {\n",
    "    const type = prompt(\"Enter the type of workout (e.g., Running, Cycling):\");\n",
    "    const duration = prompt(\"Enter the duration of the workout in minutes:\");\n",
    "    const calories = prompt(\"Enter the calories burned:\");\n",
    "\n",
    "    const workout = {\n",
    "        type: type,\n",
    "        duration: parseInt(duration),\n",
    "        calories: parseInt(calories)\n",
    "    };\n",
    "\n",
    "    workoutLog.push(workout);\n",
    "    console.log(`Workout logged: ${type}, Duration: ${duration} minutes, Calories burned: ${calories}`);\n",
    "}\n",
    "\n",
    "// Function to view the workout log\n",
    "function viewLog() {\n",
    "    if (workoutLog.length === 0) {\n",
    "        console.log(\"No workouts logged yet.\");\n",
    "        return;\n",
    "    }\n",
    "\n",
    "    console.log(\"\\nWorkout Log:\");\n",
    "    workoutLog.forEach((workout, index) => {\n",
    "        console.log(`${index + 1}. Type: ${workout.type}, Duration: ${workout.duration} minutes, Calories burned: ${workout.calories}`);\n",
    "    });\n",
    "}\n",
    "\n",
    "// Main loop\n",
    "function main() {\n",
    "    let running = true;\n",
    "\n",
    "    while (running) {\n",
    "        displayMenu();\n",
    "        const choice = prompt(\"Choose an option (1-3):\");\n",
    "\n",
    "        switch (choice) {\n",
    "            case '1':\n",
    "                logWorkout();\n",
    "                break;\n",
    "            case '2':\n",
    "                viewLog();\n",
    "                break;\n",
    "            case '3':\n",
    "                console.log(\"Exiting the program. Goodbye!\");\n",
    "                running = false;\n",
    "                break;\n",
    "            default:\n",
    "                console.log(\"Invalid choice. Please try again.\");\n",
    "        }\n",
    "    }\n",
    "}\n",
    "\n",
    "// Start the program\n",
    "main();\n"
   ]
  }
 ],
 "metadata": {
  "kernelspec": {
   "display_name": "Python 3 (ipykernel)",
   "language": "python",
   "name": "python3"
  },
  "language_info": {
   "codemirror_mode": {
    "name": "ipython",
    "version": 3
   },
   "file_extension": ".py",
   "mimetype": "text/x-python",
   "name": "python",
   "nbconvert_exporter": "python",
   "pygments_lexer": "ipython3",
   "version": "3.12.3"
  }
 },
 "nbformat": 4,
 "nbformat_minor": 2
}
