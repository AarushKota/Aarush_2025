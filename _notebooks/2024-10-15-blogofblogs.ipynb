{
 "cells": [
  {
   "cell_type": "markdown",
   "metadata": {},
   "source": []
  },
  {
   "cell_type": "markdown",
   "metadata": {},
   "source": [
    "# My Sprint Two Presentation"
   ]
  },
  {
   "cell_type": "markdown",
   "metadata": {},
   "source": [
    "I taught lesson 3.2.7 and learned how sets are unique that store different elements and variables which are created by adding elements in the {}. You can also remove sets, combine sets, and pull specific elements from two sets with the same elements. I also taught lesson 3.2.8 which was about booleans. I learned that booleans are a type of data that can output a true statement or false statement. You can use booleans to control the flow of a program, comparing two or more values, conditional statements, and many more. "
   ]
  },
  {
   "cell_type": "markdown",
   "metadata": {},
   "source": [
    "# Things I learned from other groups' presentation: "
   ]
  },
  {
   "cell_type": "markdown",
   "metadata": {},
   "source": [
    "### 3.1"
   ]
  },
  {
   "cell_type": "markdown",
   "metadata": {},
   "source": [
    "I learned that variables are a value that store data that can have any meaning and are assigned by setting a value equal to something. They can be used to call information used previously in code and be redefined if the previous variable wasn’t something you liked. When defining a variable, you cannot use spaces, but you can add an underscore and capital letters to act like a gap between letters if you desire or if you want to name the same variable in different ways.\n"
   ]
  },
  {
   "cell_type": "markdown",
   "metadata": {},
   "source": [
    "### 3.3"
   ]
  },
  {
   "cell_type": "markdown",
   "metadata": {},
   "source": [
    "An algorithm is a finite sequence of well-defined instructions to achieve a specific goal, such as sorting data or searching for information. They are followed by an order of events that create a small story and can be more unique with methods like selection, repetition and repetition. They are created with flowcharts and pseudocode. \n"
   ]
  },
  {
   "cell_type": "markdown",
   "metadata": {},
   "source": [
    "### 3.4"
   ]
  },
  {
   "cell_type": "markdown",
   "metadata": {},
   "source": [
    "I learned that strings stores sequences of characters regardless of what these characters are. Single quoted strings are read as the end of a string by python. You can also separate lines with strings.\n"
   ]
  },
  {
   "cell_type": "markdown",
   "metadata": {},
   "source": [
    "### 3.5"
   ]
  },
  {
   "cell_type": "markdown",
   "metadata": {},
   "source": [
    "I learned that relational operators create relationships between entities which you can use to compare values, conditional statements, or returning values. I also learned that logical operators are the inverse of booleans and you can combine boolean expressions with \"and\", \"or\", or \"not.\""
   ]
  },
  {
   "cell_type": "markdown",
   "metadata": {},
   "source": [
    "### 3.6 "
   ]
  },
  {
   "cell_type": "markdown",
   "metadata": {},
   "source": [
    "I learned that conditions help control flow of a program based of true false statements. These can be can be made with if/else statements"
   ]
  },
  {
   "cell_type": "markdown",
   "metadata": {},
   "source": [
    "### 3.7"
   ]
  },
  {
   "cell_type": "markdown",
   "metadata": {},
   "source": [
    "I learned that Nested Conditions are the conditions inside of a condition statement. Nested Conditions would be function if the requirment of the conditions were met and the Nested Conditions can function differently depending on which conditions you met. "
   ]
  }
 ],
 "metadata": {
  "language_info": {
   "name": "python"
  }
 },
 "nbformat": 4,
 "nbformat_minor": 2
}
