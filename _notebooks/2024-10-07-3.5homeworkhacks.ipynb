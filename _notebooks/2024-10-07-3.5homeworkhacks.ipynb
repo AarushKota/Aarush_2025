{
 "cells": [
  {
   "cell_type": "markdown",
   "metadata": {},
   "source": [
    "## Popcorn Hack #1"
   ]
  },
  {
   "cell_type": "code",
   "execution_count": 1,
   "metadata": {},
   "outputs": [
    {
     "name": "stdout",
     "output_type": "stream",
     "text": [
      "The number is negative.\n",
      "The number is non-negative.\n"
     ]
    }
   ],
   "source": [
    "def check_number(num):\n",
    "    if num < 0:\n",
    "        print(\"The number is negative.\")\n",
    "    else:\n",
    "        print(\"The number is non-negative.\")\n",
    "\n",
    "# Example usage\n",
    "check_number(-5)  # Output: The number is negative.\n",
    "check_number(3)   # Output: The number is non-negative.\n",
    "\n"
   ]
  },
  {
   "cell_type": "markdown",
   "metadata": {},
   "source": [
    "## Popcorn Hack #3"
   ]
  },
  {
   "cell_type": "code",
   "execution_count": 18,
   "metadata": {},
   "outputs": [
    {
     "name": "stdout",
     "output_type": "stream",
     "text": [
      "'a' is a vowel.\n",
      "'b' is not a vowel.\n",
      "'E' is a vowel.\n"
     ]
    }
   ],
   "source": [
    "def check_vowel(char):\n",
    "    if char.lower() in 'aeiou':\n",
    "        print(f\"'{char}' is a vowel.\")\n",
    "    else:\n",
    "        print(f\"'{char}' is not a vowel.\")\n",
    "\n",
    "# Example usage\n",
    "check_vowel('a')  # Output: 'a' is a vowel.\n",
    "check_vowel('b')  # Output: 'b' is not a vowel.\n",
    "check_vowel('E')  # Output: 'E' is a vowel.\n"
   ]
  },
  {
   "cell_type": "markdown",
   "metadata": {},
   "source": [
    "# Homework Hacks #1"
   ]
  },
  {
   "cell_type": "code",
   "execution_count": 2,
   "metadata": {},
   "outputs": [
    {
     "name": "stdout",
     "output_type": "stream",
     "text": [
      "A     B     C     ¬C    B ∨ ¬C   A ∧ (B ∨ ¬C)\n",
      "--------------------------------------------------\n",
      "1     1     1     0     1     1    \n",
      "1     1     0     1     1     1    \n",
      "1     0     1     0     0     0    \n",
      "1     0     0     1     1     1    \n",
      "0     1     1     0     1     0    \n",
      "0     1     0     1     1     0    \n",
      "0     0     1     0     0     0    \n",
      "0     0     0     1     1     0    \n"
     ]
    }
   ],
   "source": [
    "def truth_table():\n",
    "    print(\"A     B     C     ¬C    B ∨ ¬C   A ∧ (B ∨ ¬C)\")\n",
    "    print(\"--------------------------------------------------\")\n",
    "    \n",
    "    # Iterate over all combinations of A, B, C\n",
    "    for A in [True, False]:\n",
    "        for B in [True, False]:\n",
    "            for C in [True, False]:\n",
    "                not_C = not C                 # ¬C\n",
    "                B_or_not_C = B or not_C      # B ∨ ¬C\n",
    "                result = A and B_or_not_C     # A ∧ (B ∨ ¬C)\n",
    "                \n",
    "                # Print the results in a formatted manner\n",
    "                print(f\"{A:<5} {B:<5} {C:<5} {not_C:<5} {B_or_not_C:<5} {result:<5}\")\n",
    "\n",
    "# Call the function to generate the truth table\n",
    "truth_table()\n"
   ]
  },
  {
   "cell_type": "markdown",
   "metadata": {},
   "source": [
    "# Homework Hacks #2"
   ]
  },
  {
   "cell_type": "code",
   "execution_count": 4,
   "metadata": {},
   "outputs": [
    {
     "name": "stdout",
     "output_type": "stream",
     "text": [
      "Welcome to De Morgan's Dilemma!\n",
      "You rolled a 6!\n",
      "You drew the function: Not (A or B)\n",
      "Incorrect. The correct simplification is: (Not A) and (Not B). You stay in place.\n",
      "Your current position: 6\n",
      "\n",
      "You rolled a 1!\n",
      "You drew the function: Not (A or B)\n",
      "Incorrect. The correct simplification is: (Not A) and (Not B). You stay in place.\n",
      "Your current position: 7\n",
      "\n",
      "You rolled a 6!\n",
      "You've reached the finish line! You win!\n",
      "Game Over! Thank you for playing!\n"
     ]
    }
   ],
   "source": [
    "import random\n",
    "\n",
    "def de_morgan_simplification(function):\n",
    "    simplifications = {\n",
    "        \"Not (A and B)\": \"(Not A) or (Not B)\",\n",
    "        \"Not (C or D)\": \"(Not C) and (Not D)\",\n",
    "        \"Not (X and Not Y)\": \"(Not X) or (Y)\",\n",
    "        \"Not (A or B)\": \"(Not A) and (Not B)\",\n",
    "        \"Not (M and N)\": \"(Not M) or (Not N)\"\n",
    "    }\n",
    "    return simplifications.get(function, \"Unknown Function\")\n",
    "\n",
    "def main():\n",
    "    functions = [\n",
    "        \"Not (A and B)\",\n",
    "        \"Not (C or D)\",\n",
    "        \"Not (X and Not Y)\",\n",
    "        \"Not (A or B)\",\n",
    "        \"Not (M and N)\"\n",
    "    ]\n",
    "    \n",
    "    player_position = 0\n",
    "    finish_line = 10\n",
    "    print(\"Welcome to De Morgan's Dilemma!\")\n",
    "    \n",
    "    while player_position < finish_line:\n",
    "        input(\"Press Enter to roll the dice...\")\n",
    "        roll = random.randint(1, 6)\n",
    "        print(f\"You rolled a {roll}!\")\n",
    "        \n",
    "        player_position += roll\n",
    "        if player_position >= finish_line:\n",
    "            print(\"You've reached the finish line! You win!\")\n",
    "            break\n",
    "        \n",
    "        function = random.choice(functions)\n",
    "        print(f\"You drew the function: {function}\")\n",
    "        \n",
    "        simplification = de_morgan_simplification(function)\n",
    "        user_input = input(f\"How would you simplify '{function}'? (Type your answer): \")\n",
    "        \n",
    "        if user_input.strip() == simplification:\n",
    "            print(\"Correct! You move forward 2 spaces.\")\n",
    "            player_position += 2\n",
    "        else:\n",
    "            print(f\"Incorrect. The correct simplification is: {simplification}. You stay in place.\")\n",
    "        \n",
    "        print(f\"Your current position: {player_position}\\n\")\n",
    "\n",
    "    print(\"Game Over! Thank you for playing!\")\n",
    "\n",
    "if __name__ == \"__main__\":\n",
    "    main()\n",
    "\n"
   ]
  }
 ],
 "metadata": {
  "kernelspec": {
   "display_name": "Python 3 (ipykernel)",
   "language": "python",
   "name": "python3"
  },
  "language_info": {
   "codemirror_mode": {
    "name": "ipython",
    "version": 3
   },
   "file_extension": ".py",
   "mimetype": "text/x-python",
   "name": "python",
   "nbconvert_exporter": "python",
   "pygments_lexer": "ipython3",
   "version": "3.12.3"
  }
 },
 "nbformat": 4,
 "nbformat_minor": 2
}
