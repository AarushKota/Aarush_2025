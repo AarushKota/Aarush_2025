{
 "cells": [
  {
   "cell_type": "markdown",
   "metadata": {},
   "source": []
  },
  {
   "cell_type": "markdown",
   "metadata": {},
   "source": [
    "# Popcorn Hack #1"
   ]
  },
  {
   "cell_type": "code",
   "execution_count": 22,
   "metadata": {},
   "outputs": [
    {
     "name": "stdout",
     "output_type": "stream",
     "text": [
      "The sum of all integers is: 15\n"
     ]
    }
   ],
   "source": [
    "# Define a list of integers\n",
    "numbers = [1, 2, 3, 4, 5]\n",
    "\n",
    "# Compute the sum of all integers\n",
    "total_sum = sum(numbers)\n",
    "\n",
    "# Print the sum\n",
    "print(\"The sum of all integers is:\", total_sum)\n"
   ]
  },
  {
   "cell_type": "markdown",
   "metadata": {},
   "source": [
    "# Popcorn Hack #2"
   ]
  },
  {
   "cell_type": "code",
   "execution_count": 23,
   "metadata": {},
   "outputs": [
    {
     "ename": "ValueError",
     "evalue": "could not convert string to float: ''",
     "output_type": "error",
     "traceback": [
      "\u001b[0;31m---------------------------------------------------------------------------\u001b[0m",
      "\u001b[0;31mValueError\u001b[0m                                Traceback (most recent call last)",
      "Cell \u001b[0;32mIn[23], line 2\u001b[0m\n\u001b[1;32m      1\u001b[0m \u001b[38;5;66;03m# Prompt the user to enter the price per bag of popcorn\u001b[39;00m\n\u001b[0;32m----> 2\u001b[0m price_per_bag \u001b[38;5;241m=\u001b[39m \u001b[38;5;28;43mfloat\u001b[39;49m\u001b[43m(\u001b[49m\u001b[38;5;28;43minput\u001b[39;49m\u001b[43m(\u001b[49m\u001b[38;5;124;43m\"\u001b[39;49m\u001b[38;5;124;43mEnter the price per bag of popcorn: \u001b[39;49m\u001b[38;5;124;43m\"\u001b[39;49m\u001b[43m)\u001b[49m\u001b[43m)\u001b[49m\n\u001b[1;32m      4\u001b[0m \u001b[38;5;66;03m# Prompt the user to enter the number of bags they want to buy\u001b[39;00m\n\u001b[1;32m      5\u001b[0m number_of_bags \u001b[38;5;241m=\u001b[39m \u001b[38;5;28mint\u001b[39m(\u001b[38;5;28minput\u001b[39m(\u001b[38;5;124m\"\u001b[39m\u001b[38;5;124mEnter the number of bags you want to buy: \u001b[39m\u001b[38;5;124m\"\u001b[39m))\n",
      "\u001b[0;31mValueError\u001b[0m: could not convert string to float: ''"
     ]
    }
   ],
   "source": [
    "# Prompt the user to enter the price per bag of popcorn\n",
    "price_per_bag = float(input(\"Enter the price per bag of popcorn: \"))\n",
    "\n",
    "# Prompt the user to enter the number of bags they want to buy\n",
    "number_of_bags = int(input(\"Enter the number of bags you want to buy: \"))\n",
    "\n",
    "# Calculate the total cost using multiplication\n",
    "total_cost = price_per_bag * number_of_bags\n",
    "\n",
    "# Print the total cost\n",
    "print(f\"The total cost is: ${total_cost:.2f}\")\n",
    "\n"
   ]
  },
  {
   "cell_type": "markdown",
   "metadata": {},
   "source": [
    "# Popcorn Hack #3"
   ]
  },
  {
   "cell_type": "code",
   "execution_count": 28,
   "metadata": {},
   "outputs": [
    {
     "name": "stdout",
     "output_type": "stream",
     "text": [
      "The total sum from 1 to 420 is: 88410\n"
     ]
    }
   ],
   "source": [
    "# Prompt the user to enter a number n\n",
    "n = int(input(\"Enter a number n: \"))\n",
    "\n",
    "# Initialize total_sum to 0\n",
    "total_sum = 0\n",
    "\n",
    "# Use a loop to iterate from 1 to n\n",
    "for i in range(1, n + 1):\n",
    "    total_sum += i  # Add each number to total_sum\n",
    "\n",
    "# Print the total_sum\n",
    "print(f\"The total sum from 1 to {n} is: {total_sum}\")\n"
   ]
  },
  {
   "cell_type": "markdown",
   "metadata": {},
   "source": [
    "# Homework Hack #1"
   ]
  },
  {
   "cell_type": "code",
   "execution_count": 29,
   "metadata": {},
   "outputs": [
    {
     "name": "stdout",
     "output_type": "stream",
     "text": [
      "Arithmetic Mean: 12.71\n",
      "Median: 12.00\n"
     ]
    }
   ],
   "source": [
    "def compute_statistics():\n",
    "    # Defined list of integers\n",
    "    numbers = [12, 15, 7, 10, 22, 5, 18]\n",
    "\n",
    "    # Compute the arithmetic mean\n",
    "    mean = sum(numbers) / len(numbers)\n",
    "\n",
    "    # Compute the median\n",
    "    sorted_numbers = sorted(numbers)\n",
    "    n = len(sorted_numbers)\n",
    "    if n % 2 == 0:  # If even number of elements\n",
    "        median = (sorted_numbers[n // 2 - 1] + sorted_numbers[n // 2]) / 2\n",
    "    else:  # If odd number of elements\n",
    "        median = sorted_numbers[n // 2]\n",
    "\n",
    "    # Print both results\n",
    "    print(f\"Arithmetic Mean: {mean:.2f}\")\n",
    "    print(f\"Median: {median:.2f}\")\n",
    "\n",
    "# Call the function\n",
    "compute_statistics()\n"
   ]
  },
  {
   "cell_type": "markdown",
   "metadata": {},
   "source": [
    "# Homework Hack #2 "
   ]
  },
  {
   "cell_type": "code",
   "execution_count": 30,
   "metadata": {},
   "outputs": [
    {
     "name": "stdout",
     "output_type": "stream",
     "text": [
      "Collatz sequence: [6, 3, 10, 5, 16, 8, 4, 2, 1]\n"
     ]
    }
   ],
   "source": [
    "def collatz_sequence(a):\n",
    "    # Initialize the sequence list with the starting number\n",
    "    sequence = [a]\n",
    "\n",
    "    # Continue the process until we reach 1\n",
    "    while a != 1:\n",
    "        if a % 2 == 0:  # If a is even\n",
    "            a //= 2\n",
    "        else:  # If a is odd\n",
    "            a = 3 * a + 1\n",
    "        sequence.append(a)  # Add the new value to the sequence\n",
    "\n",
    "    # Print the sequence\n",
    "    print(\"Collatz sequence:\", sequence)\n",
    "\n",
    "# Example usage\n",
    "collatz_sequence(6)\n"
   ]
  },
  {
   "cell_type": "markdown",
   "metadata": {},
   "source": [
    "# Popcorn Hack #1 "
   ]
  },
  {
   "cell_type": "code",
   "execution_count": 37,
   "metadata": {
    "vscode": {
     "languageId": "javascript"
    }
   },
   "outputs": [
    {
     "name": "stdout",
     "output_type": "stream",
     "text": [
      "36.0\n"
     ]
    }
   ],
   "source": [
    "def calculate_to_thirty_six():\n",
    "    # Using addition, subtraction, multiplication, and division\n",
    "    result = (8 * 4) + (16 / 4) - 0  # This will return 36\n",
    "    return result\n",
    "\n",
    "# Example usage\n",
    "print(calculate_to_thirty_six())  # Output: 36\n",
    "\n"
   ]
  },
  {
   "cell_type": "markdown",
   "metadata": {},
   "source": [
    "# Popcorn Hack #2"
   ]
  },
  {
   "cell_type": "code",
   "execution_count": 38,
   "metadata": {
    "vscode": {
     "languageId": "javascript"
    }
   },
   "outputs": [
    {
     "name": "stdout",
     "output_type": "stream",
     "text": [
      "Let's make a sandwich!\n",
      "\n",
      "Your sandwich 'Sandwitch' has been created!\n",
      "Bread: whole wheat\n",
      "Protein: beef\n",
      "Cheese: cheddar\n",
      "Veggies: eggplant\n",
      "Sauce: mayo\n",
      "\n"
     ]
    }
   ],
   "source": [
    "def make_sandwich():\n",
    "    print(\"Let's make a sandwich!\")\n",
    "\n",
    "    # Ask for ingredients\n",
    "    bread = input(\"Choose your bread (e.g., whole wheat, sourdough): \")\n",
    "    protein = input(\"Choose your protein (e.g., turkey, ham, tofu): \")\n",
    "    cheese = input(\"Choose your cheese (e.g., cheddar, mozzarella, no cheese): \")\n",
    "    veggies = input(\"Choose your veggies (e.g., lettuce, tomato, cucumber): \")\n",
    "    sauce = input(\"Choose a sauce (e.g., mayo, mustard, ketchup): \")\n",
    "    \n",
    "    # Ask for a name for the sandwich\n",
    "    sandwich_name = input(\"What would you like to name your sandwich? \")\n",
    "\n",
    "    # Create the sandwich description\n",
    "    sandwich_description = (\n",
    "        f\"\\nYour sandwich '{sandwich_name}' has been created!\\n\"\n",
    "        f\"Bread: {bread}\\n\"\n",
    "        f\"Protein: {protein}\\n\"\n",
    "        f\"Cheese: {cheese}\\n\"\n",
    "        f\"Veggies: {veggies}\\n\"\n",
    "        f\"Sauce: {sauce}\\n\"\n",
    "    )\n",
    "    \n",
    "    print(sandwich_description)\n",
    "\n",
    "# Example usage\n",
    "make_sandwich()\n"
   ]
  },
  {
   "cell_type": "markdown",
   "metadata": {},
   "source": [
    "# Popcorn Hack #3"
   ]
  },
  {
   "cell_type": "code",
   "execution_count": 39,
   "metadata": {
    "vscode": {
     "languageId": "javascript"
    }
   },
   "outputs": [
    {
     "name": "stdout",
     "output_type": "stream",
     "text": [
      "Welcome to the Choose-Your-Own-Path Adventure!\n",
      "You find yourself in a mysterious forest.\n",
      "Do you want to go left, right, or straight ahead?\n",
      "\n",
      "You chose the right path and find a rushing river.\n",
      "You can either:\n",
      "1. Try to swim across.\n",
      "2. Build a raft.\n",
      "\n",
      "You attempt to swim but are swept away by the current.\n",
      "You manage to find a safe spot on the riverbank.\n"
     ]
    }
   ],
   "source": [
    "def start_game():\n",
    "    print(\"Welcome to the Choose-Your-Own-Path Adventure!\")\n",
    "    print(\"You find yourself in a mysterious forest.\")\n",
    "    print(\"Do you want to go left, right, or straight ahead?\")\n",
    "    \n",
    "    choice = input(\"Enter 'left', 'right', or 'straight': \").lower()\n",
    "\n",
    "    if choice == 'left':\n",
    "        left_path()\n",
    "    elif choice == 'right':\n",
    "        right_path()\n",
    "    elif choice == 'straight':\n",
    "        straight_path()\n",
    "    else:\n",
    "        print(\"Invalid choice. Please try again.\")\n",
    "        start_game()\n",
    "\n",
    "def left_path():\n",
    "    print(\"\\nYou chose the left path and encounter a wise old owl.\")\n",
    "    print(\"The owl offers you two options:\")\n",
    "    print(\"1. Ask for wisdom.\")\n",
    "    print(\"2. Ignore the owl and continue on your way.\")\n",
    "    \n",
    "    choice = input(\"Enter '1' or '2': \")\n",
    "\n",
    "    if choice == '1':\n",
    "        print(\"\\nThe owl shares profound wisdom, and you feel enlightened.\")\n",
    "        print(\"You gain the ability to see hidden paths in the forest.\")\n",
    "    elif choice == '2':\n",
    "        print(\"\\nYou ignore the owl and continue walking.\")\n",
    "        print(\"You stumble upon a hidden treasure chest!\")\n",
    "    else:\n",
    "        print(\"Invalid choice. Please try again.\")\n",
    "        left_path()\n",
    "\n",
    "def right_path():\n",
    "    print(\"\\nYou chose the right path and find a rushing river.\")\n",
    "    print(\"You can either:\")\n",
    "    print(\"1. Try to swim across.\")\n",
    "    print(\"2. Build a raft.\")\n",
    "    \n",
    "    choice = input(\"Enter '1' or '2': \")\n",
    "\n",
    "    if choice == '1':\n",
    "        print(\"\\nYou attempt to swim but are swept away by the current.\")\n",
    "        print(\"You manage to find a safe spot on the riverbank.\")\n",
    "    elif choice == '2':\n",
    "        print(\"\\nYou successfully build a raft and cross the river.\")\n",
    "        print(\"On the other side, you discover a beautiful meadow.\")\n",
    "    else:\n",
    "        print(\"Invalid choice. Please try again.\")\n",
    "        right_path()\n",
    "\n",
    "def straight_path():\n",
    "    print(\"\\nYou chose to go straight ahead and enter a dark cave.\")\n",
    "    print(\"Inside, you see two paths:\")\n",
    "    print(\"1. A bright light in one direction.\")\n",
    "    print(\"2. A strange sound in the other direction.\")\n",
    "    \n",
    "    choice = input(\"Enter '1' or '2': \")\n",
    "\n",
    "    if choice == '1':\n",
    "        print(\"\\nYou follow the light and find a magical garden.\")\n",
    "        print(\"You feel rejuvenated and blessed by the spirits of the garden.\")\n",
    "    elif choice == '2':\n",
    "        print(\"\\nYou investigate the strange sound and find a friendly dragon.\")\n",
    "        print(\"The dragon offers you a ride over the forest!\")\n",
    "    else:\n",
    "        print(\"Invalid choice. Please try again.\")\n",
    "        straight_path()\n",
    "\n",
    "# Start the game\n",
    "start_game()\n"
   ]
  },
  {
   "cell_type": "markdown",
   "metadata": {},
   "source": [
    "# Homework Hacks #1"
   ]
  },
  {
   "cell_type": "code",
   "execution_count": 40,
   "metadata": {
    "vscode": {
     "languageId": "javascript"
    }
   },
   "outputs": [
    {
     "name": "stdout",
     "output_type": "stream",
     "text": [
      "{'GCD': 6, 'LCM': 36}\n"
     ]
    }
   ],
   "source": [
    "import math\n",
    "\n",
    "def compute_gcd_lcm(a, b):\n",
    "    # Compute the GCD using math.gcd\n",
    "    gcd = math.gcd(a, b)\n",
    "    \n",
    "    # Compute the LCM using the relationship between GCD and LCM\n",
    "    lcm = abs(a * b) // gcd if gcd else 0  # Handle edge case if gcd is 0\n",
    "\n",
    "    # Return both results as a dictionary\n",
    "    return {\"GCD\": gcd, \"LCM\": lcm}\n",
    "\n",
    "# Example usage\n",
    "result = compute_gcd_lcm(12, 18)\n",
    "print(result)  # Output: {'GCD': 6, 'LCM': 36}\n"
   ]
  },
  {
   "cell_type": "markdown",
   "metadata": {},
   "source": [
    "# Homework Hacks #2"
   ]
  },
  {
   "cell_type": "code",
   "execution_count": 41,
   "metadata": {
    "vscode": {
     "languageId": "javascript"
    }
   },
   "outputs": [
    {
     "name": "stdout",
     "output_type": "stream",
     "text": [
      "[2, 2, 3, 5]\n"
     ]
    }
   ],
   "source": [
    "def prime_factors(n):\n",
    "    factors = []\n",
    "    # Check for number of 2s that divide n\n",
    "    while n % 2 == 0:\n",
    "        factors.append(2)\n",
    "        n //= 2\n",
    "\n",
    "    # n must be odd at this point, check for odd factors from 3 onward\n",
    "    for i in range(3, int(n**0.5) + 1, 2):\n",
    "        while n % i == 0:\n",
    "            factors.append(i)\n",
    "            n //= i\n",
    "\n",
    "    # This condition is to check if n is a prime number greater than 2\n",
    "    if n > 2:\n",
    "        factors.append(n)\n",
    "\n",
    "    return factors\n",
    "\n",
    "# Example usage\n",
    "result = prime_factors(60)\n",
    "print(result)  # Output: [2, 2, 3, 5]\n"
   ]
  }
 ],
 "metadata": {
  "kernelspec": {
   "display_name": "Python 3 (ipykernel)",
   "language": "python",
   "name": "python3"
  },
  "language_info": {
   "codemirror_mode": {
    "name": "ipython",
    "version": 3
   },
   "file_extension": ".py",
   "mimetype": "text/x-python",
   "name": "python",
   "nbconvert_exporter": "python",
   "pygments_lexer": "ipython3",
   "version": "3.12.3"
  }
 },
 "nbformat": 4,
 "nbformat_minor": 2
}
