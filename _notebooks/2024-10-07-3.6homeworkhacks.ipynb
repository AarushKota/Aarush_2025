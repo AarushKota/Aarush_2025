{
 "cells": [
  {
   "cell_type": "markdown",
   "metadata": {},
   "source": [
    "# Hack #1"
   ]
  },
  {
   "cell_type": "code",
   "execution_count": 1,
   "metadata": {},
   "outputs": [
    {
     "name": "stdout",
     "output_type": "stream",
     "text": [
      "Even\n",
      "Odd\n",
      "Even\n",
      "Odd\n",
      "Even\n"
     ]
    }
   ],
   "source": [
    "def check_odd_even(number):\n",
    "    if number % 2 == 0:\n",
    "        return \"Even\"\n",
    "    else:\n",
    "        return \"Odd\"\n",
    "\n",
    "# Testing the function with different numbers\n",
    "print(check_odd_even(4))   # Output: Even\n",
    "print(check_odd_even(7))   # Output: Odd\n",
    "print(check_odd_even(0))   # Output: Even\n",
    "print(check_odd_even(-3))  # Output: Odd\n",
    "print(check_odd_even(10))  # Output: Even\n"
   ]
  },
  {
   "cell_type": "markdown",
   "metadata": {},
   "source": [
    "# Hack #2"
   ]
  },
  {
   "cell_type": "code",
   "execution_count": 2,
   "metadata": {},
   "outputs": [
    {
     "name": "stdout",
     "output_type": "stream",
     "text": [
      "Leap Year\n",
      "Not a Leap Year\n",
      "Leap Year\n",
      "Not a Leap Year\n",
      "Leap Year\n"
     ]
    }
   ],
   "source": [
    "def is_leap_year(year):\n",
    "    if (year % 4 == 0 and year % 100 != 0) or (year % 400 == 0):\n",
    "        return \"Leap Year\"\n",
    "    else:\n",
    "        return \"Not a Leap Year\"\n",
    "\n",
    "# Testing the function with different years\n",
    "print(is_leap_year(2020))  # Leap Year\n",
    "print(is_leap_year(1900))  # Not a Leap Year\n",
    "print(is_leap_year(2000))  # Leap Year\n",
    "print(is_leap_year(2023))  # Not a Leap Year\n",
    "print(is_leap_year(1600))  # Leap Year\n"
   ]
  },
  {
   "cell_type": "markdown",
   "metadata": {},
   "source": [
    "# Hack #3"
   ]
  },
  {
   "cell_type": "code",
   "execution_count": 5,
   "metadata": {},
   "outputs": [
    {
     "name": "stdout",
     "output_type": "stream",
     "text": [
      "Cold\n",
      "Warm\n",
      "Warm\n",
      "Hot\n",
      "Cold\n"
     ]
    }
   ],
   "source": [
    "def temperature_range(temperature):\n",
    "    if temperature < 60:\n",
    "        return \"Cold\"\n",
    "    elif 60 <= temperature <= 85:\n",
    "        return \"Warm\"\n",
    "    else:\n",
    "        return \"Hot\"\n",
    "\n",
    "# Testing the function with different temperature values\n",
    "print(temperature_range(50))   # Cold\n",
    "print(temperature_range(70))   # Warm\n",
    "print(temperature_range(85))   # Warm\n",
    "print(temperature_range(90))   # Hot\n",
    "print(temperature_range(32))   # Cold\n"
   ]
  },
  {
   "cell_type": "markdown",
   "metadata": {},
   "source": [
    "# Hack #1"
   ]
  },
  {
   "cell_type": "code",
   "execution_count": null,
   "metadata": {
    "vscode": {
     "languageId": "javascript"
    }
   },
   "outputs": [],
   "source": [
    "function checkVotingEligibility(age) {\n",
    "    if (age >= 18) {\n",
    "        return \"You are eligible to vote!\";\n",
    "    } else {\n",
    "        return \"You are not eligible to vote yet.\";\n",
    "    }\n",
    "}\n",
    "\n",
    "// Testing the function with different age values\n",
    "console.log(checkVotingEligibility(17)); // You are not eligible to vote yet.\n",
    "console.log(checkVotingEligibility(18)); // You are eligible to vote!\n",
    "console.log(checkVotingEligibility(25)); // You are eligible to vote!\n",
    "console.log(checkVotingEligibility(15)); // You are not eligible to vote yet.\n"
   ]
  },
  {
   "cell_type": "markdown",
   "metadata": {},
   "source": [
    "# Hack #2"
   ]
  },
  {
   "cell_type": "code",
   "execution_count": null,
   "metadata": {
    "vscode": {
     "languageId": "javascript"
    }
   },
   "outputs": [],
   "source": [
    "function getGrade(score) {\n",
    "    if (score >= 90) {\n",
    "        return \"Grade: A\";\n",
    "    } else if (score >= 80) {\n",
    "        return \"Grade: B\";\n",
    "    } else if (score >= 70) {\n",
    "        return \"Grade: C\";\n",
    "    } else {\n",
    "        return \"Grade: F\";\n",
    "    }\n",
    "}\n",
    "\n",
    "// Testing the function with different scores\n",
    "console.log(getGrade(95)); // Grade: A\n",
    "console.log(getGrade(85)); // Grade: B\n",
    "console.log(getGrade(75)); // Grade: C\n",
    "console.log(getGrade(65)); // Grade: F\n",
    "console.log(getGrade(89)); // Grade: B\n"
   ]
  },
  {
   "cell_type": "markdown",
   "metadata": {},
   "source": [
    "# Hack #3"
   ]
  },
  {
   "cell_type": "code",
   "execution_count": null,
   "metadata": {
    "vscode": {
     "languageId": "javascript"
    }
   },
   "outputs": [],
   "source": [
    "function convertTemperature(value, scale) {\n",
    "    if (scale === \"C\") {\n",
    "        const fahrenheit = (value * 9 / 5) + 32;\n",
    "        return fahrenheit + \"°F\";\n",
    "    } else if (scale === \"F\") {\n",
    "        const celsius = (value - 32) * 5 / 9;\n",
    "        return celsius + \"°C\";\n",
    "    } else {\n",
    "        return \"Error: Scale must be 'C' or 'F'.\";\n",
    "    }\n",
    "}\n",
    "\n",
    "// Testing the function with different values and scales\n",
    "console.log(convertTemperature(100, \"C\")); // 212°F\n",
    "console.log(convertTemperature(32, \"F\"));  // 0°C\n",
    "console.log(convertTemperature(0, \"C\"));   // 32°F\n",
    "console.log(convertTemperature(212, \"F\")); // 100°C\n",
    "console.log(convertTemperature(50, \"K\"));  // Error: Scale must be 'C' or 'F'.\n"
   ]
  }
 ],
 "metadata": {
  "kernelspec": {
   "display_name": "Python 3 (ipykernel)",
   "language": "python",
   "name": "python3"
  },
  "language_info": {
   "codemirror_mode": {
    "name": "ipython",
    "version": 3
   },
   "file_extension": ".py",
   "mimetype": "text/x-python",
   "name": "python",
   "nbconvert_exporter": "python",
   "pygments_lexer": "ipython3",
   "version": "3.12.3"
  }
 },
 "nbformat": 4,
 "nbformat_minor": 2
}
