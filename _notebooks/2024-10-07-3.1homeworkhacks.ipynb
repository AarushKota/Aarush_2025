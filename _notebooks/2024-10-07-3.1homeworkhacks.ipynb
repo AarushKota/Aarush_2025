{
 "cells": [
  {
   "cell_type": "markdown",
   "metadata": {},
   "source": [
    "# Popcorn Hack #1"
   ]
  },
  {
   "cell_type": "code",
   "execution_count": 1,
   "metadata": {},
   "outputs": [
    {
     "name": "stdout",
     "output_type": "stream",
     "text": [
      "Aarush Thomas Collin\n"
     ]
    }
   ],
   "source": [
    "PlayerOne = \"Aarush\"\n",
    "player_One = \"Thomas\"\n",
    "Player_One = \"Collin\"\n",
    "\n",
    "print(PlayerOne, player_One, Player_One)"
   ]
  },
  {
   "cell_type": "markdown",
   "metadata": {},
   "source": [
    "# Popcorn Hack #2"
   ]
  },
  {
   "cell_type": "code",
   "execution_count": 2,
   "metadata": {},
   "outputs": [
    {
     "name": "stdout",
     "output_type": "stream",
     "text": [
      "An apple is usually red and tastes sweet.\n"
     ]
    }
   ],
   "source": [
    "fruits = {\n",
    "    \"apple\": {\n",
    "        \"color\": \"red\",\n",
    "        \"taste\": \"sweet\",\n",
    "        \"average_weight\": 0.1  # in kg\n",
    "    },\n",
    "    \"banana\": {\n",
    "        \"color\": \"yellow\",\n",
    "        \"taste\": \"sweet\",\n",
    "        \"average_weight\": 0.12  # in kg\n",
    "    },\n",
    "    \"orange\": {\n",
    "        \"color\": \"orange\",\n",
    "        \"taste\": \"citrus\",\n",
    "        \"average_weight\": 0.15  # in kg\n",
    "    },\n",
    "    \"grape\": {\n",
    "        \"color\": \"purple\",\n",
    "        \"taste\": \"sweet\",\n",
    "        \"average_weight\": 0.005  # in kg\n",
    "    },\n",
    "    \"strawberry\": {\n",
    "        \"color\": \"red\",\n",
    "        \"taste\": \"sweet\",\n",
    "        \"average_weight\": 0.02  # in kg\n",
    "    },\n",
    "    \"lemon\": {\n",
    "        \"color\": \"yellow\",\n",
    "        \"taste\": \"sour\",\n",
    "        \"average_weight\": 0.1  # in kg\n",
    "    },\n",
    "    \"kiwi\": {\n",
    "        \"color\": \"brown\",\n",
    "        \"taste\": \"sweet and tangy\",\n",
    "        \"average_weight\": 0.075  # in kg\n",
    "    }\n",
    "}\n",
    "\n",
    "# Example of accessing data in the dictionary\n",
    "print(f\"An apple is usually {fruits['apple']['color']} and tastes {fruits['apple']['taste']}.\")\n"
   ]
  },
  {
   "cell_type": "markdown",
   "metadata": {},
   "source": [
    "# Popcorn Hack #3"
   ]
  },
  {
   "cell_type": "code",
   "execution_count": 4,
   "metadata": {},
   "outputs": [
    {
     "name": "stdout",
     "output_type": "stream",
     "text": [
      "{'name': 'Aarush', 'age': 17, 'city': 'San Diego'}\n"
     ]
    }
   ],
   "source": [
    "# Declaring a dictionary\n",
    "person = {\n",
    "    'name': 'Aarush',\n",
    "    'age': 16\n",
    "}\n",
    "\n",
    "# Updating a value\n",
    "person['age'] = 17\n",
    "\n",
    "# Adding a new key-value pair\n",
    "person['city'] = 'San Diego'\n",
    "\n",
    "# Trying to reassign the dictionary would still work (Python allows reassignment)\n",
    "# person = {'name': 'Bob', 'age': 25}  # This is valid but not what we want\n",
    "\n",
    "print(person)  # Output: {'name': 'Aarush', 'age': 30, 'city': 'San Diego'}\n"
   ]
  },
  {
   "cell_type": "markdown",
   "metadata": {},
   "source": [
    "# Homework Hack #1"
   ]
  },
  {
   "cell_type": "code",
   "execution_count": 5,
   "metadata": {},
   "outputs": [
    {
     "name": "stdout",
     "output_type": "stream",
     "text": [
      "User Name: Aarush\n",
      "User Age: 16\n",
      "User Hobby: Soccer\n"
     ]
    }
   ],
   "source": [
    "# Declare a constant for the user's name\n",
    "USER_NAME = \"Aarush\"\n",
    "\n",
    "# Declare a variable for the user's age\n",
    "user_age = 16\n",
    "\n",
    "# Declare a variable for the user's favorite hobby\n",
    "user_hobby = \"Soccer\"\n",
    "\n",
    "# Print the values of the variables to the console\n",
    "print(\"User Name:\", USER_NAME)\n",
    "print(\"User Age:\", user_age)\n",
    "print(\"User Hobby:\", user_hobby)\n"
   ]
  },
  {
   "cell_type": "code",
   "execution_count": 6,
   "metadata": {},
   "outputs": [
    {
     "name": "stdout",
     "output_type": "stream",
     "text": [
      "Aarush is 16 years old and enjoys Soccer.\n"
     ]
    }
   ],
   "source": [
    "# Function to create a sentence about the user\n",
    "def create_user_sentence():\n",
    "    # Combine the variables into a single sentence\n",
    "    return f\"{USER_NAME} is {user_age} years old and enjoys {user_hobby}.\"\n",
    "\n",
    "# Call the function and print the result to the console\n",
    "print(create_user_sentence())\n"
   ]
  },
  {
   "cell_type": "markdown",
   "metadata": {},
   "source": [
    "Variable Declarations:\n",
    "\n",
    "USER_NAME: This is a constant variable (conventionally written in all caps) that holds the name of the user.\n",
    "user_age: This variable holds the user's age and can be modified if needed.\n",
    "user_hobby: This variable holds the user's favorite hobby.\n",
    "Console Printing:\n",
    "\n",
    "Each variable's value is printed to the console for verification.\n",
    "Function Definition:\n",
    "\n",
    "The create_user_sentence function concatenates the variables into a meaningful sentence using an f-string for formatting.\n",
    "Function Call:\n",
    "\n",
    "The function is called, and the resulting sentence is printed to the console."
   ]
  },
  {
   "cell_type": "markdown",
   "metadata": {},
   "source": [
    "# Homework Hack #2"
   ]
  },
  {
   "cell_type": "code",
   "execution_count": 9,
   "metadata": {},
   "outputs": [
    {
     "name": "stdout",
     "output_type": "stream",
     "text": [
      "Student: Thomas, Age: 17, Average Grade: 84.33\n",
      "Student: Aarush, Age: 16, Average Grade: 79.67\n",
      "Student: Collin, Age: 16, Average Grade: 90.00\n"
     ]
    }
   ],
   "source": [
    "# Function to calculate average grade\n",
    "def calculate_average(grades):\n",
    "    # Sum the grades\n",
    "    total = sum(grades)\n",
    "    # Calculate the average\n",
    "    return total / len(grades)\n",
    "\n",
    "# List of student information\n",
    "students = [\n",
    "    {'name': 'Thomas', 'age': 17, 'grades': [85, 90, 78]},\n",
    "    {'name': 'Aarush', 'age': 16, 'grades': [77, 79, 83]},\n",
    "    {'name': 'Collin', 'age': 16, 'grades': [90, 95, 85]}\n",
    "]\n",
    "\n",
    "# Calculate and display average grade for each student\n",
    "for student in students:\n",
    "    average_grade = calculate_average(student['grades'])\n",
    "    print(f\"Student: {student['name']}, Age: {student['age']}, Average Grade: {average_grade:.2f}\")\n"
   ]
  },
  {
   "cell_type": "markdown",
   "metadata": {},
   "source": [
    "Explanation:\n",
    "Function Definition: calculate_average takes a list of grades as input.\n",
    "Total Calculation: We use Python's built-in sum() function to calculate the total.\n",
    "Average Calculation: The average is found by dividing the total by the number of grades.\n",
    "Student List: A list of dictionaries contains name, age, and grades.\n",
    "Iterating Students: We loop through each student, calculate their average grade, and print the results."
   ]
  }
 ],
 "metadata": {
  "kernelspec": {
   "display_name": "Python 3 (ipykernel)",
   "language": "python",
   "name": "python3"
  },
  "language_info": {
   "codemirror_mode": {
    "name": "ipython",
    "version": 3
   },
   "file_extension": ".py",
   "mimetype": "text/x-python",
   "name": "python",
   "nbconvert_exporter": "python",
   "pygments_lexer": "ipython3",
   "version": "3.12.3"
  }
 },
 "nbformat": 4,
 "nbformat_minor": 2
}
