{
 "cells": [
  {
   "cell_type": "markdown",
   "metadata": {},
   "source": [
    "\n",
    "# Hack #1"
   ]
  },
  {
   "cell_type": "code",
   "execution_count": 2,
   "metadata": {},
   "outputs": [
    {
     "name": "stdout",
     "output_type": "stream",
     "text": [
      "You are ready for the beach!\n",
      "It's not a good day for the beach.\n",
      "You should buy sunscreen.\n",
      "You should get snacks first.\n"
     ]
    }
   ],
   "source": [
    "def decide_beach_trip(weather, has_sunscreen, has_enough_snacks):\n",
    "    if weather.lower() != \"sunny\":\n",
    "        print(\"It's not a good day for the beach.\")\n",
    "    elif not has_sunscreen:\n",
    "        print(\"You should buy sunscreen.\")\n",
    "    elif not has_enough_snacks:\n",
    "        print(\"You should get snacks first.\")\n",
    "    else:\n",
    "        print(\"You are ready for the beach!\")\n",
    "\n",
    "# Testing the function with different scenarios\n",
    "decide_beach_trip(\"sunny\", True, True)      # You are ready for the beach!\n",
    "decide_beach_trip(\"cloudy\", True, True)     # It's not a good day for the beach.\n",
    "decide_beach_trip(\"sunny\", False, True)     # You should buy sunscreen.\n",
    "decide_beach_trip(\"sunny\", True, False)     # You should get snacks first.\n"
   ]
  },
  {
   "cell_type": "markdown",
   "metadata": {},
   "source": [
    "# Hack #2"
   ]
  },
  {
   "cell_type": "code",
   "execution_count": 3,
   "metadata": {},
   "outputs": [
    {
     "name": "stdout",
     "output_type": "stream",
     "text": [
      "You can adopt a pet!\n",
      "You must be at least 18 to adopt a pet.\n",
      "You need a bigger home.\n",
      "You need to make time to take care of the pet.\n"
     ]
    }
   ],
   "source": [
    "def can_adopt_pet(age, home_space, available):\n",
    "    if age < 18:\n",
    "        print(\"You must be at least 18 to adopt a pet.\")\n",
    "    elif home_space <= 50:\n",
    "        print(\"You need a bigger home.\")\n",
    "    elif not available:\n",
    "        print(\"You need to make time to take care of the pet.\")\n",
    "    else:\n",
    "        print(\"You can adopt a pet!\")\n",
    "\n",
    "# Testing the function with different scenarios\n",
    "can_adopt_pet(20, 60, True)   # You can adopt a pet!\n",
    "can_adopt_pet(17, 60, True)   # You must be at least 18 to adopt a pet.\n",
    "can_adopt_pet(20, 40, True)   # You need a bigger home.\n",
    "can_adopt_pet(20, 60, False)  # You need to make time to take care of the pet.\n"
   ]
  },
  {
   "cell_type": "markdown",
   "metadata": {},
   "source": [
    "# Hack #3"
   ]
  },
  {
   "cell_type": "code",
   "execution_count": 4,
   "metadata": {},
   "outputs": [
    {
     "name": "stdout",
     "output_type": "stream",
     "text": [
      "You are ready for the marathon!\n",
      "It's not the right time for the marathon.\n",
      "You need to buy shoes first.\n",
      "You need to practice more.\n"
     ]
    }
   ],
   "source": [
    "def decide_marathon_participation(weather, has_running_shoes, practice_days):\n",
    "    if weather.lower() != \"clear\":\n",
    "        print(\"It's not the right time for the marathon.\")\n",
    "    elif not has_running_shoes:\n",
    "        print(\"You need to buy shoes first.\")\n",
    "    elif practice_days < 10:\n",
    "        print(\"You need to practice more.\")\n",
    "    else:\n",
    "        print(\"You are ready for the marathon!\")\n",
    "\n",
    "# Testing the function with different scenarios\n",
    "decide_marathon_participation(\"clear\", True, 12)  # You are ready for the marathon!\n",
    "decide_marathon_participation(\"rainy\", True, 12)  # It's not the right time for the marathon.\n",
    "decide_marathon_participation(\"clear\", False, 12) # You need to buy shoes first.\n",
    "decide_marathon_participation(\"clear\", True, 5)   # You need to practice more.\n"
   ]
  },
  {
   "cell_type": "markdown",
   "metadata": {},
   "source": [
    "# Python Quiz "
   ]
  },
  {
   "cell_type": "markdown",
   "metadata": {
    "vscode": {
     "languageId": "javascript"
    }
   },
   "source": [
    "Question One: What will be the output of the following code?\n",
    "\n",
    "let age = 16;\n",
    "let hasPermission = false;\n",
    "\n",
    "if (age >= 18) {\n",
    "    if (hasPermission) {\n",
    "        console.log(\"You can enter.\");\n",
    "    } else {\n",
    "        console.log(\"You need permission to enter.\");\n",
    "    }\n",
    "} else {\n",
    "    console.log(\"You are too young to enter.\");\n",
    "}\n",
    "A. You can enter. B. You need permission to enter. C. You are too young to enter.\n",
    "\n",
    "Answer: C. You are too young to enter"
   ]
  },
  {
   "cell_type": "markdown",
   "metadata": {},
   "source": [
    "Question Two: \n",
    "let x = 10;\n",
    "let y = -5;\n",
    "\n",
    "if (x > 0) {\n",
    "    if (y > 0) {\n",
    "        console.log(\"Both x and y are positive.\");\n",
    "    } else {\n",
    "        console.log(\"x is positive but y is not.\");\n",
    "    }\n",
    "} else {\n",
    "    console.log(\"x is not positive.\");\n",
    "}\n",
    "\n",
    "Answer: x will be positive and y will not be postive."
   ]
  },
  {
   "cell_type": "markdown",
   "metadata": {},
   "source": [
    "Question Three: What will be the output of the following code?\n",
    "\n",
    "let temperature = 65;\n",
    "let isSunny = true;\n",
    "\n",
    "if (temperature > 70) {\n",
    "    if (isSunny) {\n",
    "        console.log(\"It's a nice day for a picnic.\");\n",
    "    } else {\n",
    "        console.log(\"It's warm but not sunny.\");\n",
    "    }\n",
    "} else {\n",
    "    console.log(\"It's too cold.\");\n",
    "}\n",
    "A. It’s a nice day for a picnic. B. It’s warm but not sunny. C. It’s too cold.\n",
    "\n",
    "Answer: C. It's too cold."
   ]
  },
  {
   "cell_type": "markdown",
   "metadata": {},
   "source": [
    "# Hack #1"
   ]
  },
  {
   "cell_type": "code",
   "execution_count": null,
   "metadata": {
    "vscode": {
     "languageId": "javascript"
    }
   },
   "outputs": [],
   "source": [
    "function decideStudy(examReady, hasQuietPlace, isTired) {\n",
    "    if (!examReady) {\n",
    "        console.log(\"You need to gather your study materials first.\");\n",
    "    } else if (!hasQuietPlace) {\n",
    "        console.log(\"You should find a quiet location.\");\n",
    "    } else if (isTired) {\n",
    "        console.log(\"You should take a nap or rest first.\");\n",
    "    } else {\n",
    "        console.log(\"You are ready to study!\");\n",
    "    }\n",
    "}\n",
    "\n",
    "// Testing the function with different scenarios\n",
    "decideStudy(false, true, false); // You need to gather your study materials first.\n",
    "decideStudy(true, false, false);  // You should find a quiet location.\n",
    "decideStudy(true, true, true);     // You should take a nap or rest first.\n",
    "decideStudy(true, true, false);    // You are ready to study!\n",
    "\n",
    "\n",
    "\n"
   ]
  },
  {
   "cell_type": "markdown",
   "metadata": {},
   "source": [
    "# Hack #2"
   ]
  },
  {
   "cell_type": "code",
   "execution_count": null,
   "metadata": {
    "vscode": {
     "languageId": "javascript"
    }
   },
   "outputs": [],
   "source": [
    "function canBakeCake(ingredients, ovenWorking, timeAvailable) {\n",
    "    // Check for missing ingredients\n",
    "    let missingIngredients = [];\n",
    "    if (!ingredients.flour) missingIngredients.push(\"flour\");\n",
    "    if (!ingredients.eggs) missingIngredients.push(\"eggs\");\n",
    "    if (!ingredients.sugar) missingIngredients.push(\"sugar\");\n",
    "\n",
    "    // Check conditions\n",
    "    if (missingIngredients.length > 0) {\n",
    "        console.log(\"You are missing: \" + missingIngredients.join(\", \") + \".\");\n",
    "    } else if (!ovenWorking) {\n",
    "        console.log(\"You need to fix or replace the oven.\");\n",
    "    } else if (timeAvailable < 2) {\n",
    "        console.log(\"You need to find more time.\");\n",
    "    } else {\n",
    "        console.log(\"You can start baking!\");\n",
    "    }\n",
    "}\n",
    "\n",
    "// Testing the function with different scenarios\n",
    "canBakeCake({ flour: true, eggs: true, sugar: true }, true, 2);      // You can start baking!\n",
    "canBakeCake({ flour: true, eggs: false, sugar: true }, true, 2);     // You are missing: eggs.\n",
    "canBakeCake({ flour: true, eggs: true, sugar: true }, false, 2);     // You need to fix or replace the oven.\n",
    "canBakeCake({ flour: true, eggs: true, sugar: true }, true, 1);       // You need to find more time.\n"
   ]
  },
  {
   "cell_type": "markdown",
   "metadata": {},
   "source": [
    "# Hack #3"
   ]
  },
  {
   "cell_type": "code",
   "execution_count": null,
   "metadata": {
    "vscode": {
     "languageId": "javascript"
    }
   },
   "outputs": [],
   "source": [
    "function canGoCamping(weather, hasTent, hasEnoughSupplies) {\n",
    "    if (weather.toLowerCase() !== \"clear\") {\n",
    "        console.log(\"It's not a good time for camping.\");\n",
    "    } else if (!hasTent) {\n",
    "        console.log(\"You need to buy or borrow a tent.\");\n",
    "    } else if (!hasEnoughSupplies) {\n",
    "        console.log(\"You need to pack more food and water.\");\n",
    "    } else {\n",
    "        console.log(\"You are ready to go camping!\");\n",
    "    }\n",
    "}\n",
    "\n",
    "// Testing the function with different scenarios\n",
    "canGoCamping(\"clear\", true, true);            // You are ready to go camping!\n",
    "canGoCamping(\"rainy\", true, true);            // It's not a good time for camping.\n",
    "canGoCamping(\"clear\", false, true);           // You need to buy or borrow a tent.\n",
    "canGoCamping(\"clear\", true, false);           // You need to pack more food and water.\n"
   ]
  },
  {
   "cell_type": "markdown",
   "metadata": {},
   "source": [
    "# Javascript Quiz"
   ]
  },
  {
   "cell_type": "markdown",
   "metadata": {},
   "source": [
    "Question 1: What will be the output of the following code?\n",
    "\n",
    "let score = 85;\n",
    "let hasExtraCredit = false;\n",
    "\n",
    "if (score >= 90) {\n",
    "    console.log(\"Grade: A\");\n",
    "} else {\n",
    "    if (score >= 80) {\n",
    "        if (hasExtraCredit) {\n",
    "            console.log(\"Grade: A\");\n",
    "        } else {\n",
    "            console.log(\"Grade: B\");\n",
    "        }\n",
    "    } else {\n",
    "        console.log(\"Grade: C or below\");\n",
    "    }\n",
    "}\n",
    "\n",
    "Answer: Grade: B"
   ]
  },
  {
   "cell_type": "markdown",
   "metadata": {},
   "source": [
    "Question 2: Given the following code, what will be printed if age = 30 and isMember = true?\n",
    "\n",
    "let age = 30;\n",
    "let isMember = true;\n",
    "\n",
    "if (age < 18) {\n",
    "    console.log(\"Child discount applies.\");\n",
    "} else {\n",
    "    if (isMember) {\n",
    "        console.log(\"Member discount applies.\");\n",
    "    } else {\n",
    "        console.log(\"No discount available.\");\n",
    "    }\n",
    "}\n",
    "\n",
    "Answer: Member discount applies."
   ]
  },
  {
   "cell_type": "markdown",
   "metadata": {},
   "source": [
    "Question 3: What will be the output of the following code?\n",
    "\n",
    "let day = \"Saturday\";\n",
    "let weather = \"sunny\";\n",
    "\n",
    "if (day === \"Saturday\") {\n",
    "    if (weather === \"sunny\") {\n",
    "        console.log(\"Let's go to the park!\");\n",
    "    } else {\n",
    "        console.log(\"Let's stay indoors.\");\n",
    "    }\n",
    "} else {\n",
    "    console.log(\"It's a weekday, time to work.\");\n",
    "}\n",
    "\n",
    "Answer: Let's go to the park!"
   ]
  }
 ],
 "metadata": {
  "kernelspec": {
   "display_name": "Python 3 (ipykernel)",
   "language": "python",
   "name": "python3"
  },
  "language_info": {
   "codemirror_mode": {
    "name": "ipython",
    "version": 3
   },
   "file_extension": ".py",
   "mimetype": "text/x-python",
   "name": "python",
   "nbconvert_exporter": "python",
   "pygments_lexer": "ipython3",
   "version": "3.12.3"
  }
 },
 "nbformat": 4,
 "nbformat_minor": 2
}
