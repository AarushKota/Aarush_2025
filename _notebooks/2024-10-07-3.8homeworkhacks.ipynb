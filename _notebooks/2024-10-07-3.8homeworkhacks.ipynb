{
 "cells": [
  {
   "cell_type": "markdown",
   "metadata": {},
   "source": [
    "# Popcorn Hack #1 "
   ]
  },
  {
   "cell_type": "code",
   "execution_count": 1,
   "metadata": {},
   "outputs": [
    {
     "name": "stdout",
     "output_type": "stream",
     "text": [
      "hello\n",
      "hello\n",
      "hello\n",
      "hello\n",
      "hello\n"
     ]
    }
   ],
   "source": [
    "count = 0  # Initialize a counter\n",
    "\n",
    "while count < 5:\n",
    "    print(\"hello\")  # Print \"hello\"\n",
    "    count += 1  # Increment the counter\n"
   ]
  },
  {
   "cell_type": "markdown",
   "metadata": {},
   "source": [
    "# Popcorn Hack #2"
   ]
  },
  {
   "cell_type": "code",
   "execution_count": 2,
   "metadata": {},
   "outputs": [
    {
     "name": "stdout",
     "output_type": "stream",
     "text": [
      "John\n",
      "MichaelMichael\n",
      "DoeDoeDoe\n",
      "John\n",
      "MichaelMichael\n",
      "DoeDoeDoe\n",
      "John\n",
      "MichaelMichael\n",
      "DoeDoeDoe\n",
      "John\n",
      "MichaelMichael\n",
      "DoeDoeDoe\n"
     ]
    }
   ],
   "source": [
    "# Define your names\n",
    "first_name = \"John\"      # Replace with your first name\n",
    "middle_name = \"Michael\"  # Replace with your middle name\n",
    "last_name = \"Doe\"        # Replace with your last name\n",
    "\n",
    "# Repeat the entire sequence 4 times\n",
    "for _ in range(4):\n",
    "    print(first_name)      # Print first name once\n",
    "    print(middle_name * 2) # Print middle name twice\n",
    "    print(last_name * 3)   # Print last name three times\n"
   ]
  },
  {
   "cell_type": "markdown",
   "metadata": {},
   "source": [
    "# Popcorn Hack #3"
   ]
  },
  {
   "cell_type": "code",
   "execution_count": 3,
   "metadata": {},
   "outputs": [
    {
     "name": "stdout",
     "output_type": "stream",
     "text": [
      "A\n",
      "a\n",
      "r\n",
      "u\n",
      "s\n",
      "h\n"
     ]
    }
   ],
   "source": [
    "# Define your name\n",
    "name = \"Aarush\"\n",
    "\n",
    "# Iterate through each letter in the name\n",
    "for letter in name:\n",
    "    print(letter)\n"
   ]
  },
  {
   "cell_type": "markdown",
   "metadata": {},
   "source": [
    "# Popcorn Hack #4"
   ]
  },
  {
   "cell_type": "code",
   "execution_count": 4,
   "metadata": {},
   "outputs": [
    {
     "name": "stdout",
     "output_type": "stream",
     "text": [
      "The name is Aarush. That's interesting!\n",
      "The age is 16. That's interesting!\n",
      "The city is San Diego. That's interesting!\n",
      "The hobby is Soccer. That's interesting!\n"
     ]
    }
   ],
   "source": [
    "# Create a dictionary\n",
    "my_dict = {\n",
    "    \"name\": \"Aarush\",\n",
    "    \"age\": 16,\n",
    "    \"city\": \"San Diego\",\n",
    "    \"hobby\": \"Soccer\"\n",
    "}\n",
    "\n",
    "# Iterate through each key and value in the dictionary\n",
    "for key, value in my_dict.items():\n",
    "    print(f\"The {key} is {value}. That's interesting!\")\n"
   ]
  },
  {
   "cell_type": "markdown",
   "metadata": {},
   "source": [
    "# Hack #1"
   ]
  },
  {
   "cell_type": "code",
   "execution_count": 2,
   "metadata": {},
   "outputs": [
    {
     "name": "stdout",
     "output_type": "stream",
     "text": [
      "Incorrect password. Please try again.\n",
      "The password is correct.\n"
     ]
    }
   ],
   "source": [
    "# Define the correct password\n",
    "correct_password = \"Soccer\"\n",
    "\n",
    "while True:\n",
    "    # Ask the user for the password\n",
    "    user_input = input(\"Please enter your password: \")\n",
    "\n",
    "    # Check if the password is correct\n",
    "    if user_input == correct_password:\n",
    "        print(\"The password is correct.\")\n",
    "        break  # Exit the loop if the password is correct\n",
    "    else:\n",
    "        print(\"Incorrect password. Please try again.\")\n",
    "\n"
   ]
  },
  {
   "cell_type": "markdown",
   "metadata": {},
   "source": [
    "# Hack #2"
   ]
  },
  {
   "cell_type": "code",
   "execution_count": 3,
   "metadata": {},
   "outputs": [
    {
     "name": "stdout",
     "output_type": "stream",
     "text": [
      "A\n",
      "a\n",
      "r\n",
      "u\n",
      "s\n",
      "h\n"
     ]
    }
   ],
   "source": [
    "# Ask the user for their name\n",
    "user_name = input(\"Please enter your name: \")\n",
    "\n",
    "# Iterate through each letter in the name\n",
    "for letter in user_name:\n",
    "    print(letter)\n"
   ]
  },
  {
   "cell_type": "markdown",
   "metadata": {},
   "source": [
    "# Hack #3"
   ]
  },
  {
   "cell_type": "code",
   "execution_count": 4,
   "metadata": {},
   "outputs": [
    {
     "name": "stdout",
     "output_type": "stream",
     "text": [
      "apple\n",
      "banana\n",
      "cherry\n",
      "date\n",
      "fig\n",
      "grape\n",
      "kiwi\n"
     ]
    }
   ],
   "source": [
    "# Define a list of fruits\n",
    "fruits = [\"apple\", \"banana\", \"cherry\", \"date\", \"fig\", \"grape\", \"kiwi\"]\n",
    "\n",
    "# Iterate through the list and print each fruit\n",
    "for fruit in fruits:\n",
    "    print(fruit)\n"
   ]
  }
 ],
 "metadata": {
  "kernelspec": {
   "display_name": "Python 3 (ipykernel)",
   "language": "python",
   "name": "python3"
  },
  "language_info": {
   "codemirror_mode": {
    "name": "ipython",
    "version": 3
   },
   "file_extension": ".py",
   "mimetype": "text/x-python",
   "name": "python",
   "nbconvert_exporter": "python",
   "pygments_lexer": "ipython3",
   "version": "3.12.3"
  }
 },
 "nbformat": 4,
 "nbformat_minor": 2
}
